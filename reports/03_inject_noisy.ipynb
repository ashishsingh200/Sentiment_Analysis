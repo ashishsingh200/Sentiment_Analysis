{
 "cells": [
  {
   "cell_type": "code",
   "execution_count": 1,
   "id": "d618fdc4",
   "metadata": {},
   "outputs": [],
   "source": [
    "import random\n",
    "import re\n",
    "import numpy as np\n",
    "import pandas as pd\n",
    "from typing import Tuple"
   ]
  },
  {
   "cell_type": "code",
   "execution_count": 2,
   "id": "c5d438e0-1fd5-459b-9ced-fb59b650d4bf",
   "metadata": {},
   "outputs": [],
   "source": [
    "# Set random seed for reproducibility\n",
    "random.seed(42)\n",
    "np.random.seed(42)"
   ]
  },
  {
   "cell_type": "code",
   "execution_count": 3,
   "id": "05864c8a-4c57-44a3-bd6d-42d0ab90c269",
   "metadata": {},
   "outputs": [],
   "source": [
    "# Define slang dictionary\n",
    "SLANG_DICT = {\n",
    "    \"great\": \"gr8\",\n",
    "    \"you\": \"u\",\n",
    "    \"before\": \"b4\",\n",
    "    \"are\": \"r\",\n",
    "    \"to\": \"2\",\n",
    "    \"for\": \"4\",\n",
    "    \"please\": \"pls\",\n",
    "    \"people\": \"ppl\",\n",
    "    \"with\": \"w/\",\n",
    "    \"thanks\": \"thx\",\n",
    "}\n",
    "\n"
   ]
  },
  {
   "cell_type": "code",
   "execution_count": 4,
   "id": "761d2c4c-7fe4-4b63-a0de-6f782ce42e3a",
   "metadata": {},
   "outputs": [],
   "source": [
    "def introduce_typos(text: str, typo_rate: float = 0.05) -> str:\n",
    "    \"\"\"Introduce random typos into a given text.\"\"\"\n",
    "    chars = list(text)\n",
    "    n_typos = int(len(chars) * typo_rate)\n",
    "    for _ in range(n_typos):\n",
    "        if len(chars) < 2:\n",
    "            continue\n",
    "        idx = random.randint(0, len(chars) - 2)\n",
    "        chars[idx], chars[idx + 1] = chars[idx + 1], chars[idx]\n",
    "    return ''.join(chars)\n",
    "\n"
   ]
  },
  {
   "cell_type": "code",
   "execution_count": 5,
   "id": "d1ecd29d-4fc5-4ce4-8667-ca53f61b4c98",
   "metadata": {},
   "outputs": [],
   "source": [
    "def replace_with_slang(text: str) -> str:\n",
    "    \"\"\"Replace random words with slangs.\"\"\"\n",
    "    words = text.split()\n",
    "    new_words = []\n",
    "    for word in words:\n",
    "        if word.lower() in SLANG_DICT and random.random() < 0.3:\n",
    "            new_words.append(SLANG_DICT[word.lower()])\n",
    "        else:\n",
    "            new_words.append(word)\n",
    "    return ' '.join(new_words)\n",
    "\n",
    "\n"
   ]
  },
  {
   "cell_type": "code",
   "execution_count": 6,
   "id": "c3a5d133-74d3-4cee-be7f-54ff961db19a",
   "metadata": {},
   "outputs": [],
   "source": [
    "def flip_sentiment(y: np.ndarray, flip_rate: float = 0.1) -> np.ndarray:\n",
    "    \"\"\"\n",
    "    Randomly flip a portion of sentiment labels to introduce noise.\n",
    "    \"\"\"\n",
    "    flipped_y = y.copy()\n",
    "    n_samples = int(len(y) * flip_rate)\n",
    "    indices = np.random.choice(len(y), n_samples, replace=False)\n",
    "    valid_labels = [-2, -1, 0, 1, 2]\n",
    "    \n",
    "    for idx in indices:\n",
    "        current_label = flipped_y[idx]\n",
    "        \n",
    "        # Check if current label is valid\n",
    "        if current_label in valid_labels:\n",
    "            possible_labels = valid_labels.copy()\n",
    "            possible_labels.remove(current_label)\n",
    "            flipped_y[idx] = random.choice(possible_labels)\n",
    "            \n",
    "    return flipped_y"
   ]
  },
  {
   "cell_type": "code",
   "execution_count": 7,
   "id": "b70243b8-32d3-4f88-bf92-2b70c097b6b4",
   "metadata": {},
   "outputs": [],
   "source": [
    "def inject_noise(df: pd.DataFrame) -> Tuple[pd.DataFrame, np.ndarray]:\n",
    "    \"\"\"Apply noise injection to comments and target.\"\"\"\n",
    "    noisy_df = df.copy()\n",
    "    \n",
    "    # Apply typos\n",
    "    noisy_df['Comment'] = noisy_df['Comment'].apply(lambda x: introduce_typos(x, typo_rate=0.05))\n",
    "    \n",
    "    # Apply slangs\n",
    "    noisy_df['Comment'] = noisy_df['Comment'].apply(replace_with_slang)\n",
    "    \n",
    "    # Flip labels\n",
    "    y_noisy = flip_sentiment(noisy_df['Sentiment_Score'].values, flip_rate=0.05)\n",
    "    \n",
    "    return noisy_df, y_noisy\n",
    "\n"
   ]
  },
  {
   "cell_type": "code",
   "execution_count": 8,
   "id": "25d9b816-4544-491c-b9fa-2a5c94b50bc6",
   "metadata": {},
   "outputs": [
    {
     "name": "stdout",
     "output_type": "stream",
     "text": [
      "[INFO] Noise injected and new dataset saved.\n"
     ]
    }
   ],
   "source": [
    "# ========================\n",
    "# Example usage\n",
    "# ========================\n",
    "# Load your existing processed data\n",
    "df = pd.read_csv(\"../data/processed/processed_sentiments.csv\")\n",
    "\n",
    "# Apply noise\n",
    "noisy_df, noisy_y = inject_noise(df)\n",
    "\n",
    "# Save noisy data if needed\n",
    "noisy_df['Sentiment_Score_Noisy'] = noisy_y\n",
    "noisy_df.to_csv(\"../data/processed/processed_sentiment_comments_noisy.csv\", index=False)\n",
    "\n",
    "print(\"[INFO] Noise injected and new dataset saved.\")"
   ]
  },
  {
   "cell_type": "code",
   "execution_count": null,
   "id": "fc798bec",
   "metadata": {},
   "outputs": [],
   "source": []
  }
 ],
 "metadata": {
  "kernelspec": {
   "display_name": "env",
   "language": "python",
   "name": "python3"
  },
  "language_info": {
   "codemirror_mode": {
    "name": "ipython",
    "version": 3
   },
   "file_extension": ".py",
   "mimetype": "text/x-python",
   "name": "python",
   "nbconvert_exporter": "python",
   "pygments_lexer": "ipython3",
   "version": "3.12.8"
  }
 },
 "nbformat": 4,
 "nbformat_minor": 5
}
