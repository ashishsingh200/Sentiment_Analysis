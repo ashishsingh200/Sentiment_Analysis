{
 "cells": [
  {
   "cell_type": "code",
   "execution_count": 5,
   "id": "9e11410a-0806-493b-9d17-50ddf7859697",
   "metadata": {},
   "outputs": [],
   "source": [
    "# ==============================\n",
    "# 1. Imports\n",
    "# ==============================\n",
    "import pandas as pd\n",
    "import numpy as np\n",
    "import logging\n",
    "import joblib\n",
    "from sklearn.model_selection import train_test_split, cross_val_score\n",
    "from sklearn.pipeline import Pipeline\n",
    "from sklearn.preprocessing import FunctionTransformer, StandardScaler\n",
    "from sklearn.compose import ColumnTransformer\n",
    "from sklearn.feature_extraction.text import TfidfVectorizer\n",
    "from sklearn.linear_model import LogisticRegression\n",
    "from sklearn.ensemble import RandomForestClassifier, GradientBoostingClassifier\n",
    "from sklearn.svm import SVC\n",
    "from xgboost import XGBClassifier\n",
    "from lightgbm import LGBMClassifier\n",
    "from sklearn.metrics import accuracy_score, f1_score, classification_report\n",
    "import matplotlib.pyplot as plt\n",
    "import seaborn as sns\n",
    "import os\n",
    "import datetime\n",
    "\n"
   ]
  },
  {
   "cell_type": "code",
   "execution_count": 6,
   "id": "a6e457cc-6c28-4e39-ad28-b5a985a749da",
   "metadata": {},
   "outputs": [],
   "source": [
    "# ==============================\n",
    "# 2. Configuration\n",
    "# ==============================\n",
    "class Config:\n",
    "    TEST_SIZE = 0.2\n",
    "    SEED = 42\n",
    "    SCORING = 'accuracy'\n",
    "    CV_FOLDS = 5\n",
    "    MODEL_DIR = \"/models\"\n",
    "\n",
    "config = Config()\n",
    "\n"
   ]
  },
  {
   "cell_type": "code",
   "execution_count": 11,
   "id": "fb059313-c6ee-45e4-8ebe-0134d3dc1a0a",
   "metadata": {},
   "outputs": [],
   "source": [
    "# Setup Logger\n",
    "logging.basicConfig(level=logging.INFO, format=\"%(asctime)s - %(levelname)s - %(message)s\")\n",
    "logger = logging.getLogger(__name__)"
   ]
  },
  {
   "cell_type": "code",
   "execution_count": 13,
   "id": "8d997f70-35b0-48d3-95f1-537d57b4ba40",
   "metadata": {},
   "outputs": [
    {
     "name": "stderr",
     "output_type": "stream",
     "text": [
      "<>:5: SyntaxWarning: invalid escape sequence '\\S'\n",
      "<>:5: SyntaxWarning: invalid escape sequence '\\S'\n",
      "C:\\Users\\user\\AppData\\Local\\Temp\\ipykernel_8008\\521015551.py:5: SyntaxWarning: invalid escape sequence '\\S'\n",
      "  df = pd.read_csv(\"D:\\STUDY\\SENTIMENT_ANALYSIS\\data\\processed\\processed_sentiment_comments_noisy.csv\")\n",
      "2025-04-29 21:13:30,092 - INFO - Loading noisy dataset...\n"
     ]
    }
   ],
   "source": [
    "# ==============================\n",
    "# 3. Load Noisy Dataset\n",
    "# ==============================\n",
    "logger.info(\"Loading noisy dataset...\")\n",
    "df = pd.read_csv(\"D:\\STUDY\\SENTIMENT_ANALYSIS\\data\\processed\\processed_sentiment_comments_noisy.csv\")\n",
    "\n"
   ]
  },
  {
   "cell_type": "code",
   "execution_count": null,
   "id": "c7e363f9-a621-4fe7-841e-d88cb6bf7ecb",
   "metadata": {},
   "outputs": [],
   "source": [
    "\n"
   ]
  },
  {
   "cell_type": "code",
   "execution_count": null,
   "id": "72f23e55-4d15-4075-9d03-f0ce91a49b0e",
   "metadata": {},
   "outputs": [],
   "source": []
  },
  {
   "cell_type": "code",
   "execution_count": 16,
   "id": "7455175c",
   "metadata": {},
   "outputs": [
    {
     "name": "stderr",
     "output_type": "stream",
     "text": [
      "C:\\Users\\user\\AppData\\Local\\Temp\\ipykernel_8008\\2097843323.py:16: SettingWithCopyWarning: \n",
      "A value is trying to be set on a copy of a slice from a DataFrame.\n",
      "Try using .loc[row_indexer,col_indexer] = value instead\n",
      "\n",
      "See the caveats in the documentation: https://pandas.pydata.org/pandas-docs/stable/user_guide/indexing.html#returning-a-view-versus-a-copy\n",
      "  df['Sentiment_Score_Mapped'] = df['Sentiment_Score_Mapped'].astype(int)\n"
     ]
    }
   ],
   "source": [
    "# ==============================\n",
    "# Mapping Sentiment for Noisy Data (fixed)\n",
    "# ==============================\n",
    "sentiment_mapping = {\n",
    "    -2: 0,  # Angry\n",
    "    -1: 1,  # Sad\n",
    "     0: 2,  # Neutral\n",
    "     1: 3,  # Happy\n",
    "     2: 4   # Excited\n",
    "}\n",
    "\n",
    "df['Sentiment_Score_Mapped'] = df['Sentiment_Score'].map(sentiment_mapping)\n",
    "\n",
    "# Safely handle missing mappings\n",
    "df = df.dropna(subset=['Sentiment_Score_Mapped'])  # <--- Drop problematic rows\n",
    "df['Sentiment_Score_Mapped'] = df['Sentiment_Score_Mapped'].astype(int)\n",
    "\n",
    "# Now no IntCastingNaNError anymore\n",
    "X, y = prepare_features(df)"
   ]
  },
  {
   "cell_type": "code",
   "execution_count": 18,
   "id": "d08e431b",
   "metadata": {},
   "outputs": [],
   "source": [
    "# ==============================\n",
    "# 5. Feature Engineering\n",
    "# ==============================\n",
    "def prepare_features(df: pd.DataFrame):\n",
    "    \"\"\"Prepare features and target.\"\"\"\n",
    "    X = df[['Comment', 'Comment_Length', 'Likes', 'Has_Typo', 'Slang_Presence']]\n",
    "    y = df['Sentiment_Score_Mapped'].astype(int)\n",
    "    return X, y\n",
    "\n",
    "X, y = prepare_features(df)"
   ]
  },
  {
   "cell_type": "code",
   "execution_count": 19,
   "id": "f72dca8c-c627-4407-9d9e-9b5c8ba25baa",
   "metadata": {},
   "outputs": [
    {
     "name": "stderr",
     "output_type": "stream",
     "text": [
      "2025-04-29 21:16:16,396 - INFO - Splitting train and test sets...\n",
      "2025-04-29 21:16:16,404 - INFO - Train size: (1266, 5), Test size: (317, 5)\n"
     ]
    }
   ],
   "source": [
    "# ==============================\n",
    "# 5. Train-Test Split\n",
    "# ==============================\n",
    "logger.info(\"Splitting train and test sets...\")\n",
    "X_train, X_test, y_train, y_test = train_test_split(\n",
    "    X, y, test_size=config.TEST_SIZE, random_state=config.SEED, stratify=y\n",
    ")\n",
    "\n",
    "logger.info(f\"Train size: {X_train.shape}, Test size: {X_test.shape}\")\n",
    "\n"
   ]
  },
  {
   "cell_type": "code",
   "execution_count": 20,
   "id": "903b1cc6-2c71-4741-905d-8c944435c8ee",
   "metadata": {},
   "outputs": [],
   "source": [
    "# ==============================\n",
    "# 6. Preprocessing Pipeline\n",
    "# ==============================\n",
    "text_features = ['Comment']\n",
    "num_features = ['Comment_Length', 'Likes', 'Has_Typo', 'Slang_Presence']\n",
    "\n",
    "text_transformer = Pipeline(steps=[\n",
    "    ('tfidf', TfidfVectorizer(max_features=500))\n",
    "])\n",
    "\n",
    "num_transformer = Pipeline(steps=[\n",
    "    ('scaler', StandardScaler())\n",
    "])\n",
    "\n",
    "preprocessor = ColumnTransformer(\n",
    "    transformers=[\n",
    "        ('text', text_transformer, 'Comment'),\n",
    "        ('num', num_transformer, num_features)\n",
    "    ]\n",
    ")\n",
    "\n"
   ]
  },
  {
   "cell_type": "code",
   "execution_count": 21,
   "id": "4566b100-05b7-4ce4-84db-24c410a33539",
   "metadata": {},
   "outputs": [],
   "source": [
    "# ==============================\n",
    "# 7. Models Dictionary\n",
    "# ==============================\n",
    "models = {\n",
    "    \"Logistic Regression\": LogisticRegression(max_iter=1000, random_state=config.SEED),\n",
    "    \"Random Forest\": RandomForestClassifier(random_state=config.SEED),\n",
    "    \"Gradient Boosting\": GradientBoostingClassifier(random_state=config.SEED),\n",
    "    \"SVM\": SVC(probability=True, random_state=config.SEED),\n",
    "    \"XGBoost\": XGBClassifier(random_state=config.SEED, use_label_encoder=False, eval_metric='mlogloss'),\n",
    "    \"LightGBM\": LGBMClassifier(random_state=config.SEED)\n",
    "}\n",
    "\n"
   ]
  },
  {
   "cell_type": "code",
   "execution_count": 22,
   "id": "e9568d92-e451-45f3-aeae-5bbaf300b74d",
   "metadata": {},
   "outputs": [
    {
     "name": "stderr",
     "output_type": "stream",
     "text": [
      "2025-04-29 21:16:21,025 - INFO - Training Logistic Regression...\n"
     ]
    },
    {
     "name": "stderr",
     "output_type": "stream",
     "text": [
      "2025-04-29 21:16:21,789 - INFO - Training Random Forest...\n",
      "2025-04-29 21:16:26,327 - INFO - Training Gradient Boosting...\n",
      "2025-04-29 21:16:48,389 - INFO - Training SVM...\n",
      "2025-04-29 21:16:53,743 - INFO - Training XGBoost...\n",
      "d:\\STUDY\\SENTIMENT_ANALYSIS\\env\\Lib\\site-packages\\xgboost\\training.py:183: UserWarning: [21:16:55] WARNING: C:\\actions-runner\\_work\\xgboost\\xgboost\\src\\learner.cc:738: \n",
      "Parameters: { \"use_label_encoder\" } are not used.\n",
      "\n",
      "  bst.update(dtrain, iteration=i, fobj=obj)\n",
      "d:\\STUDY\\SENTIMENT_ANALYSIS\\env\\Lib\\site-packages\\xgboost\\training.py:183: UserWarning: [21:16:56] WARNING: C:\\actions-runner\\_work\\xgboost\\xgboost\\src\\learner.cc:738: \n",
      "Parameters: { \"use_label_encoder\" } are not used.\n",
      "\n",
      "  bst.update(dtrain, iteration=i, fobj=obj)\n",
      "d:\\STUDY\\SENTIMENT_ANALYSIS\\env\\Lib\\site-packages\\xgboost\\training.py:183: UserWarning: [21:16:57] WARNING: C:\\actions-runner\\_work\\xgboost\\xgboost\\src\\learner.cc:738: \n",
      "Parameters: { \"use_label_encoder\" } are not used.\n",
      "\n",
      "  bst.update(dtrain, iteration=i, fobj=obj)\n",
      "d:\\STUDY\\SENTIMENT_ANALYSIS\\env\\Lib\\site-packages\\xgboost\\training.py:183: UserWarning: [21:16:58] WARNING: C:\\actions-runner\\_work\\xgboost\\xgboost\\src\\learner.cc:738: \n",
      "Parameters: { \"use_label_encoder\" } are not used.\n",
      "\n",
      "  bst.update(dtrain, iteration=i, fobj=obj)\n",
      "d:\\STUDY\\SENTIMENT_ANALYSIS\\env\\Lib\\site-packages\\xgboost\\training.py:183: UserWarning: [21:16:59] WARNING: C:\\actions-runner\\_work\\xgboost\\xgboost\\src\\learner.cc:738: \n",
      "Parameters: { \"use_label_encoder\" } are not used.\n",
      "\n",
      "  bst.update(dtrain, iteration=i, fobj=obj)\n",
      "d:\\STUDY\\SENTIMENT_ANALYSIS\\env\\Lib\\site-packages\\xgboost\\training.py:183: UserWarning: [21:17:00] WARNING: C:\\actions-runner\\_work\\xgboost\\xgboost\\src\\learner.cc:738: \n",
      "Parameters: { \"use_label_encoder\" } are not used.\n",
      "\n",
      "  bst.update(dtrain, iteration=i, fobj=obj)\n",
      "2025-04-29 21:17:00,950 - INFO - Training LightGBM...\n"
     ]
    },
    {
     "name": "stdout",
     "output_type": "stream",
     "text": [
      "[LightGBM] [Info] Auto-choosing row-wise multi-threading, the overhead of testing was 0.002315 seconds.\n",
      "You can set `force_row_wise=true` to remove the overhead.\n",
      "And if memory is not enough, you can set `force_col_wise=true`.\n",
      "[LightGBM] [Info] Total Bins 1925\n",
      "[LightGBM] [Info] Number of data points in the train set: 1266, number of used features: 79\n",
      "[LightGBM] [Info] Start training from score -1.515996\n",
      "[LightGBM] [Info] Start training from score -1.320572\n",
      "[LightGBM] [Info] Start training from score -1.426590\n",
      "[LightGBM] [Info] Start training from score -1.297179\n",
      "[LightGBM] [Warning] No further splits with positive gain, best gain: -inf\n",
      "[LightGBM] [Warning] No further splits with positive gain, best gain: -inf\n",
      "[LightGBM] [Info] Auto-choosing col-wise multi-threading, the overhead of testing was 0.000850 seconds.\n",
      "You can set `force_col_wise=true` to remove the overhead.\n",
      "[LightGBM] [Info] Total Bins 1596\n",
      "[LightGBM] [Info] Number of data points in the train set: 1012, number of used features: 77\n",
      "[LightGBM] [Info] Start training from score -1.517006\n",
      "[LightGBM] [Info] Start training from score -1.321262\n",
      "[LightGBM] [Info] Start training from score -1.422516\n",
      "[LightGBM] [Info] Start training from score -1.299283\n",
      "[LightGBM] [Warning] No further splits with positive gain, best gain: -inf\n",
      "[LightGBM] [Warning] No further splits with positive gain, best gain: -inf\n",
      "[LightGBM] [Warning] No further splits with positive gain, best gain: -inf\n"
     ]
    },
    {
     "name": "stderr",
     "output_type": "stream",
     "text": [
      "d:\\STUDY\\SENTIMENT_ANALYSIS\\env\\Lib\\site-packages\\sklearn\\utils\\validation.py:2739: UserWarning: X does not have valid feature names, but LGBMClassifier was fitted with feature names\n",
      "  warnings.warn(\n"
     ]
    },
    {
     "name": "stdout",
     "output_type": "stream",
     "text": [
      "[LightGBM] [Info] Auto-choosing row-wise multi-threading, the overhead of testing was 0.000579 seconds.\n",
      "You can set `force_row_wise=true` to remove the overhead.\n",
      "And if memory is not enough, you can set `force_col_wise=true`.\n",
      "[LightGBM] [Info] Total Bins 1597\n",
      "[LightGBM] [Info] Number of data points in the train set: 1013, number of used features: 77\n",
      "[LightGBM] [Info] Start training from score -1.517994\n",
      "[LightGBM] [Info] Start training from score -1.318553\n",
      "[LightGBM] [Info] Start training from score -1.427610\n",
      "[LightGBM] [Info] Start training from score -1.296654\n",
      "[LightGBM] [Warning] No further splits with positive gain, best gain: -inf\n",
      "[LightGBM] [Warning] No further splits with positive gain, best gain: -inf\n",
      "[LightGBM] [Warning] No further splits with positive gain, best gain: -inf\n",
      "[LightGBM] [Warning] No further splits with positive gain, best gain: -inf\n"
     ]
    },
    {
     "name": "stderr",
     "output_type": "stream",
     "text": [
      "d:\\STUDY\\SENTIMENT_ANALYSIS\\env\\Lib\\site-packages\\sklearn\\utils\\validation.py:2739: UserWarning: X does not have valid feature names, but LGBMClassifier was fitted with feature names\n",
      "  warnings.warn(\n"
     ]
    },
    {
     "name": "stdout",
     "output_type": "stream",
     "text": [
      "[LightGBM] [Info] Auto-choosing row-wise multi-threading, the overhead of testing was 0.000586 seconds.\n",
      "You can set `force_row_wise=true` to remove the overhead.\n",
      "And if memory is not enough, you can set `force_col_wise=true`.\n",
      "[LightGBM] [Info] Total Bins 1624\n",
      "[LightGBM] [Info] Number of data points in the train set: 1013, number of used features: 79\n",
      "[LightGBM] [Info] Start training from score -1.517994\n",
      "[LightGBM] [Info] Start training from score -1.318553\n",
      "[LightGBM] [Info] Start training from score -1.427610\n",
      "[LightGBM] [Info] Start training from score -1.296654\n",
      "[LightGBM] [Warning] No further splits with positive gain, best gain: -inf\n",
      "[LightGBM] [Warning] No further splits with positive gain, best gain: -inf\n",
      "[LightGBM] [Warning] No further splits with positive gain, best gain: -inf\n",
      "[LightGBM] [Warning] No further splits with positive gain, best gain: -inf\n",
      "[LightGBM] [Warning] No further splits with positive gain, best gain: -inf\n",
      "[LightGBM] [Warning] No further splits with positive gain, best gain: -inf\n",
      "[LightGBM] [Warning] No further splits with positive gain, best gain: -inf\n",
      "[LightGBM] [Info] Auto-choosing row-wise multi-threading, the overhead of testing was 0.000485 seconds.\n",
      "You can set `force_row_wise=true` to remove the overhead.\n",
      "And if memory is not enough, you can set `force_col_wise=true`.\n",
      "[LightGBM] [Info] Total Bins 1616\n",
      "[LightGBM] [Info] Number of data points in the train set: 1013, number of used features: 78\n",
      "[LightGBM] [Info] Start training from score -1.513500\n",
      "[LightGBM] [Info] Start training from score -1.322250\n",
      "[LightGBM] [Info] Start training from score -1.427610\n",
      "[LightGBM] [Info] Start training from score -1.296654\n",
      "[LightGBM] [Warning] No further splits with positive gain, best gain: -inf\n",
      "[LightGBM] [Warning] No further splits with positive gain, best gain: -inf\n",
      "[LightGBM] [Warning] No further splits with positive gain, best gain: -inf\n"
     ]
    },
    {
     "name": "stderr",
     "output_type": "stream",
     "text": [
      "d:\\STUDY\\SENTIMENT_ANALYSIS\\env\\Lib\\site-packages\\sklearn\\utils\\validation.py:2739: UserWarning: X does not have valid feature names, but LGBMClassifier was fitted with feature names\n",
      "  warnings.warn(\n",
      "d:\\STUDY\\SENTIMENT_ANALYSIS\\env\\Lib\\site-packages\\sklearn\\utils\\validation.py:2739: UserWarning: X does not have valid feature names, but LGBMClassifier was fitted with feature names\n",
      "  warnings.warn(\n"
     ]
    },
    {
     "name": "stdout",
     "output_type": "stream",
     "text": [
      "[LightGBM] [Info] Auto-choosing row-wise multi-threading, the overhead of testing was 0.001289 seconds.\n",
      "You can set `force_row_wise=true` to remove the overhead.\n",
      "And if memory is not enough, you can set `force_col_wise=true`.\n",
      "[LightGBM] [Info] Total Bins 1597\n",
      "[LightGBM] [Info] Number of data points in the train set: 1013, number of used features: 77\n",
      "[LightGBM] [Info] Start training from score -1.513500\n",
      "[LightGBM] [Info] Start training from score -1.322250\n",
      "[LightGBM] [Info] Start training from score -1.427610\n",
      "[LightGBM] [Info] Start training from score -1.296654\n",
      "[LightGBM] [Warning] No further splits with positive gain, best gain: -inf\n",
      "[LightGBM] [Warning] No further splits with positive gain, best gain: -inf\n",
      "[LightGBM] [Warning] No further splits with positive gain, best gain: -inf\n",
      "[LightGBM] [Warning] No further splits with positive gain, best gain: -inf\n",
      "[LightGBM] [Warning] No further splits with positive gain, best gain: -inf\n",
      "[LightGBM] [Warning] No further splits with positive gain, best gain: -inf\n",
      "[LightGBM] [Warning] No further splits with positive gain, best gain: -inf\n"
     ]
    },
    {
     "name": "stderr",
     "output_type": "stream",
     "text": [
      "d:\\STUDY\\SENTIMENT_ANALYSIS\\env\\Lib\\site-packages\\sklearn\\utils\\validation.py:2739: UserWarning: X does not have valid feature names, but LGBMClassifier was fitted with feature names\n",
      "  warnings.warn(\n",
      "d:\\STUDY\\SENTIMENT_ANALYSIS\\env\\Lib\\site-packages\\sklearn\\utils\\validation.py:2739: UserWarning: X does not have valid feature names, but LGBMClassifier was fitted with feature names\n",
      "  warnings.warn(\n"
     ]
    }
   ],
   "source": [
    "# ==============================\n",
    "# 8. Training and Evaluation\n",
    "# ==============================\n",
    "def evaluate_model(model, X_test, y_test):\n",
    "    \"\"\"Evaluate model and return metrics.\"\"\"\n",
    "    y_pred = model.predict(X_test)\n",
    "    acc = accuracy_score(y_test, y_pred)\n",
    "    f1 = f1_score(y_test, y_pred, average='weighted')\n",
    "    return acc, f1\n",
    "\n",
    "results = []\n",
    "\n",
    "for name, model in models.items():\n",
    "    logger.info(f\"Training {name}...\")\n",
    "    \n",
    "    pipeline = Pipeline([\n",
    "        ('preprocessor', preprocessor),\n",
    "        ('classifier', model)\n",
    "    ])\n",
    "    \n",
    "    pipeline.fit(X_train, y_train)\n",
    "    \n",
    "    cv_score = cross_val_score(pipeline, X_train, y_train, cv=config.CV_FOLDS, scoring=config.SCORING)\n",
    "    \n",
    "    acc, f1 = evaluate_model(pipeline, X_test, y_test)\n",
    "    \n",
    "    results.append({\n",
    "        'Model': name,\n",
    "        'CV_Mean': np.mean(cv_score),\n",
    "        'CV_Std': np.std(cv_score),\n",
    "        'Test_Accuracy': acc,\n",
    "        'Test_F1': f1,\n",
    "        'Pipeline': pipeline\n",
    "    })\n",
    "\n"
   ]
  },
  {
   "cell_type": "code",
   "execution_count": 23,
   "id": "49f3773d-0725-4ed8-b9f0-743e7df980a1",
   "metadata": {},
   "outputs": [
    {
     "name": "stderr",
     "output_type": "stream",
     "text": [
      "2025-04-29 21:17:05,345 - INFO - \n",
      "                 Model   CV_Mean    CV_Std  Test_Accuracy   Test_F1\n",
      "2    Gradient Boosting  0.966833  0.006841       0.968454  0.968661\n",
      "0  Logistic Regression  0.947888  0.015585       0.955836  0.956159\n",
      "1        Random Forest  0.968411  0.008986       0.952681  0.953201\n",
      "5             LightGBM  0.948670  0.011919       0.946372  0.946723\n",
      "4              XGBoost  0.948676  0.014042       0.943218  0.943780\n",
      "3                  SVM  0.866500  0.029552       0.867508  0.868730\n"
     ]
    }
   ],
   "source": [
    "# ==============================\n",
    "# 9. Results DataFrame\n",
    "# ==============================\n",
    "model_comparison = pd.DataFrame(results).sort_values(by='Test_Accuracy', ascending=False)\n",
    "logger.info(f\"\\n{model_comparison[['Model', 'CV_Mean', 'CV_Std', 'Test_Accuracy', 'Test_F1']]}\")"
   ]
  },
  {
   "cell_type": "code",
   "execution_count": 24,
   "id": "d4fd745d-2321-4b59-97a0-c55b3dbfc4fa",
   "metadata": {},
   "outputs": [
    {
     "name": "stderr",
     "output_type": "stream",
     "text": [
      "2025-04-29 21:17:05,544 - INFO - Best Model: Gradient Boosting\n",
      "2025-04-29 21:17:05,544 - INFO - Model saved at /models\\gradient_boosting_noisy_20250429_211705.pkl\n"
     ]
    }
   ],
   "source": [
    "# ==============================\n",
    "# 10. Best Model Selection\n",
    "# ==============================\n",
    "best_model_row = model_comparison.iloc[0]\n",
    "best_model_name = best_model_row['Model']\n",
    "best_pipeline = best_model_row['Pipeline']\n",
    "\n",
    "timestamp = datetime.datetime.now().strftime(\"%Y%m%d_%H%M%S\")\n",
    "model_filename = os.path.join(config.MODEL_DIR, f\"{best_model_name.lower().replace(' ', '_')}_noisy_{timestamp}.pkl\")\n",
    "os.makedirs(config.MODEL_DIR, exist_ok=True)\n",
    "joblib.dump(best_pipeline, model_filename)\n",
    "\n",
    "logger.info(f\"Best Model: {best_model_name}\")\n",
    "logger.info(f\"Model saved at {model_filename}\")\n",
    "\n",
    "\n"
   ]
  },
  {
   "cell_type": "code",
   "execution_count": 25,
   "id": "fac08c07-77c8-415e-b268-f1e1c5702fef",
   "metadata": {},
   "outputs": [
    {
     "name": "stderr",
     "output_type": "stream",
     "text": [
      "C:\\Users\\user\\AppData\\Local\\Temp\\ipykernel_8008\\2619373217.py:8: FutureWarning: \n",
      "\n",
      "Passing `palette` without assigning `hue` is deprecated and will be removed in v0.14.0. Assign the `y` variable to `hue` and set `legend=False` for the same effect.\n",
      "\n",
      "  ax = sns.barplot(\n"
     ]
    },
    {
     "data": {
      "image/png": "[encoded data removed]",
      "text/plain": [
       "<Figure size 1200x600 with 1 Axes>"
      ]
     },
     "metadata": {},
     "output_type": "display_data"
    }
   ],
   "source": [
    "# ==============================\n",
    "# 11. Visualization\n",
    "# ==============================\n",
    "import matplotlib.pyplot as plt\n",
    "import seaborn as sns\n",
    "\n",
    "plt.figure(figsize=(12, 6))\n",
    "ax = sns.barplot(\n",
    "    x='Test_Accuracy',\n",
    "    y='Model',\n",
    "    data=model_comparison,\n",
    "    palette='viridis'\n",
    ")\n",
    "\n",
    "# Add text annotations on the bars\n",
    "for container in ax.containers:\n",
    "    ax.bar_label(container, fmt='%.2f', label_type='edge', padding=3)\n",
    "\n",
    "plt.title('Model Comparison on Noisy Data (Test Accuracy)')\n",
    "plt.xlabel('Test Accuracy')\n",
    "plt.ylabel('Model')\n",
    "plt.grid(True, axis='x', linestyle='--', alpha=0.7)\n",
    "plt.tight_layout()\n",
    "plt.show()\n"
   ]
  },
  {
   "cell_type": "code",
   "execution_count": null,
   "id": "71cb6faf-3ddc-4d9e-a096-9ca6126e89c5",
   "metadata": {},
   "outputs": [],
   "source": []
  },
  {
   "cell_type": "code",
   "execution_count": null,
   "id": "f964f712",
   "metadata": {},
   "outputs": [],
   "source": []
  }
 ],
 "metadata": {
  "kernelspec": {
   "display_name": "env",
   "language": "python",
   "name": "python3"
  },
  "language_info": {
   "codemirror_mode": {
    "name": "ipython",
    "version": 3
   },
   "file_extension": ".py",
   "mimetype": "text/x-python",
   "name": "python",
   "nbconvert_exporter": "python",
   "pygments_lexer": "ipython3",
   "version": "3.12.8"
  }
 },
 "nbformat": 4,
 "nbformat_minor": 5
}
